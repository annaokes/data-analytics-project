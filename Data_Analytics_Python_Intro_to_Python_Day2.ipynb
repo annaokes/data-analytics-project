{
  "cells": [
    {
      "cell_type": "markdown",
      "source": [
        "# Comparision Operators, If else, for loop!\n",
        "\n",
        "\n",
        "We'll learn about the following topics:\n",
        "\n",
        "    1.) Comparision Operators\n",
        "    2.) Useful Operators\n",
        "    3.) If else\n",
        "    4.) For loop\n",
        "    5.) FizzBuzz Challenge\n",
        "    6.) Functions"
      ],
      "metadata": {
        "id": "oOO2TMqwUiaW"
      }
    },
    {
      "cell_type": "markdown",
      "metadata": {
        "id": "e9Rv7ri_UAsy"
      },
      "source": [
        "# Comparison Operators \n",
        "\n",
        "In this session we will be learning about Comparison Operators in Python. These operators will allow us to compare variables and output a Boolean value (True or False). \n",
        "\n",
        "First we'll present a table of the comparison operators and then work through some examples:\n",
        "\n",
        "<h2> Table of Comparison Operators </h2><p>  In the table below, a=3 and b=4.</p>\n",
        "\n",
        "<table class=\"table table-bordered\">\n",
        "<tr>\n",
        "<th style=\"width:10%\">Operator</th><th style=\"width:45%\">Description</th><th>Example</th>\n",
        "</tr>\n",
        "<tr>\n",
        "<td>==</td>\n",
        "<td>If the values of two operands are equal, then the condition becomes true.</td>\n",
        "<td> (a == b) is not true.</td>\n",
        "</tr>\n",
        "<tr>\n",
        "<td>!=</td>\n",
        "<td>If values of two operands are not equal, then condition becomes true.</td>\n",
        "<td>(a != b) is true</td>\n",
        "</tr>\n",
        "<tr>\n",
        "<td>&gt;</td>\n",
        "<td>If the value of left operand is greater than the value of right operand, then condition becomes true.</td>\n",
        "<td> (a &gt; b) is not true.</td>\n",
        "</tr>\n",
        "<tr>\n",
        "<td>&lt;</td>\n",
        "<td>If the value of left operand is less than the value of right operand, then condition becomes true.</td>\n",
        "<td> (a &lt; b) is true.</td>\n",
        "</tr>\n",
        "<tr>\n",
        "<td>&gt;=</td>\n",
        "<td>If the value of left operand is greater than or equal to the value of right operand, then condition becomes true.</td>\n",
        "<td> (a &gt;= b) is not true. </td>\n",
        "</tr>\n",
        "<tr>\n",
        "<td>&lt;=</td>\n",
        "<td>If the value of left operand is less than or equal to the value of right operand, then condition becomes true.</td>\n",
        "<td> (a &lt;= b) is true. </td>\n",
        "</tr>\n",
        "</table>"
      ]
    },
    {
      "cell_type": "markdown",
      "metadata": {
        "id": "ZX0LW8-rUAs0"
      },
      "source": [
        "Let's now work through quick examples of each of these.\n",
        "\n",
        "#### Equal"
      ]
    },
    {
      "cell_type": "code",
      "execution_count": null,
      "metadata": {
        "id": "lZsypjPrUAs1",
        "outputId": "a7fe4c09-5e87-415b-bd1e-204e7ede5ab8",
        "colab": {
          "base_uri": "https://localhost:8080/"
        }
      },
      "outputs": [
        {
          "output_type": "execute_result",
          "data": {
            "text/plain": [
              "True"
            ]
          },
          "metadata": {},
          "execution_count": 1
        }
      ],
      "source": [
        "2 == 2"
      ]
    },
    {
      "cell_type": "code",
      "execution_count": null,
      "metadata": {
        "id": "V9GUwPfLUAs2",
        "outputId": "507834df-58e6-462b-d4d5-8caf25255d8f",
        "colab": {
          "base_uri": "https://localhost:8080/"
        }
      },
      "outputs": [
        {
          "output_type": "execute_result",
          "data": {
            "text/plain": [
              "False"
            ]
          },
          "metadata": {},
          "execution_count": 2
        }
      ],
      "source": [
        "1 == 0"
      ]
    },
    {
      "cell_type": "markdown",
      "metadata": {
        "id": "dXxx9n8_UAs3"
      },
      "source": [
        "Note that <code>==</code> is a <em>comparison</em> operator, while <code>=</code> is an <em>assignment</em> operator."
      ]
    },
    {
      "cell_type": "markdown",
      "metadata": {
        "id": "m2we_IZqUAs3"
      },
      "source": [
        "#### Not Equal"
      ]
    },
    {
      "cell_type": "code",
      "execution_count": null,
      "metadata": {
        "id": "fYJWS4SbUAs4",
        "outputId": "3a8b8f8a-1add-44a2-873b-79881fee3cfa"
      },
      "outputs": [
        {
          "data": {
            "text/plain": [
              "True"
            ]
          },
          "execution_count": 3,
          "metadata": {},
          "output_type": "execute_result"
        }
      ],
      "source": [
        "2 != 1"
      ]
    },
    {
      "cell_type": "code",
      "execution_count": null,
      "metadata": {
        "id": "h-ly74hdUAs5",
        "outputId": "b4b485db-ba01-41d4-a491-ea8d303cc733"
      },
      "outputs": [
        {
          "data": {
            "text/plain": [
              "False"
            ]
          },
          "execution_count": 4,
          "metadata": {},
          "output_type": "execute_result"
        }
      ],
      "source": [
        "2 != 2"
      ]
    },
    {
      "cell_type": "markdown",
      "metadata": {
        "id": "ShWl2g_XUAs5"
      },
      "source": [
        "#### Greater Than"
      ]
    },
    {
      "cell_type": "code",
      "execution_count": null,
      "metadata": {
        "id": "D44GIbDrUAs6",
        "outputId": "a0103a63-8d51-4124-ebb1-399bcd534fda"
      },
      "outputs": [
        {
          "data": {
            "text/plain": [
              "True"
            ]
          },
          "execution_count": 5,
          "metadata": {},
          "output_type": "execute_result"
        }
      ],
      "source": [
        "2 > 1"
      ]
    },
    {
      "cell_type": "code",
      "execution_count": null,
      "metadata": {
        "id": "b6IuJE_MUAs6",
        "outputId": "222ebe4a-3572-40e5-9870-439498b20932"
      },
      "outputs": [
        {
          "data": {
            "text/plain": [
              "False"
            ]
          },
          "execution_count": 6,
          "metadata": {},
          "output_type": "execute_result"
        }
      ],
      "source": [
        "2 > 4"
      ]
    },
    {
      "cell_type": "markdown",
      "metadata": {
        "id": "AlNa9D7KUAs6"
      },
      "source": [
        "#### Less Than"
      ]
    },
    {
      "cell_type": "code",
      "execution_count": null,
      "metadata": {
        "id": "gJsT2qswUAs6",
        "outputId": "4228d662-0703-42a5-d73c-4f6823761245"
      },
      "outputs": [
        {
          "data": {
            "text/plain": [
              "True"
            ]
          },
          "execution_count": 7,
          "metadata": {},
          "output_type": "execute_result"
        }
      ],
      "source": [
        "2 < 4"
      ]
    },
    {
      "cell_type": "code",
      "execution_count": null,
      "metadata": {
        "id": "pLocTl9dUAs7",
        "outputId": "d420d5bc-7054-4826-9e71-fc3b8cdc46b0"
      },
      "outputs": [
        {
          "data": {
            "text/plain": [
              "False"
            ]
          },
          "execution_count": 8,
          "metadata": {},
          "output_type": "execute_result"
        }
      ],
      "source": [
        "2 < 1"
      ]
    },
    {
      "cell_type": "markdown",
      "metadata": {
        "id": "ZIKzB7rTUAs7"
      },
      "source": [
        "#### Greater Than or Equal to"
      ]
    },
    {
      "cell_type": "code",
      "execution_count": null,
      "metadata": {
        "id": "_JE-9YF0UAs7",
        "outputId": "ab6eab6b-e526-48a3-cb1f-27badb48ffb1"
      },
      "outputs": [
        {
          "data": {
            "text/plain": [
              "True"
            ]
          },
          "execution_count": 9,
          "metadata": {},
          "output_type": "execute_result"
        }
      ],
      "source": [
        "2 >= 2"
      ]
    },
    {
      "cell_type": "code",
      "execution_count": null,
      "metadata": {
        "id": "NsRHrlrEUAs8",
        "outputId": "b0968b88-5a0f-404d-f7c6-9b4ac53eac5e"
      },
      "outputs": [
        {
          "data": {
            "text/plain": [
              "True"
            ]
          },
          "execution_count": 10,
          "metadata": {},
          "output_type": "execute_result"
        }
      ],
      "source": [
        "2 >= 1"
      ]
    },
    {
      "cell_type": "markdown",
      "metadata": {
        "id": "-MdQE4_SUAs8"
      },
      "source": [
        "#### Less than or Equal to"
      ]
    },
    {
      "cell_type": "code",
      "execution_count": null,
      "metadata": {
        "id": "is4pUHGoUAs8",
        "outputId": "755fcebf-dbb3-414c-8c16-e8ba837f609a"
      },
      "outputs": [
        {
          "data": {
            "text/plain": [
              "True"
            ]
          },
          "execution_count": 11,
          "metadata": {},
          "output_type": "execute_result"
        }
      ],
      "source": [
        "2 <= 2"
      ]
    },
    {
      "cell_type": "code",
      "execution_count": null,
      "metadata": {
        "id": "QJZlv0sKUAs9",
        "outputId": "3dc0a989-4984-49cc-f40f-9f968dd9d9f2"
      },
      "outputs": [
        {
          "data": {
            "text/plain": [
              "True"
            ]
          },
          "execution_count": 12,
          "metadata": {},
          "output_type": "execute_result"
        }
      ],
      "source": [
        "2 <= 4"
      ]
    },
    {
      "cell_type": "markdown",
      "source": [
        "# Useful Operators\n",
        "\n",
        "There are a few built-in functions and \"operators\" in Python"
      ],
      "metadata": {
        "id": "taND43jMqVMj"
      }
    },
    {
      "cell_type": "markdown",
      "source": [
        "## range\n",
        "\n",
        "The range function allows you to quickly *generate* a list of integers, this comes in handy a lot, so take note of how to use it! There are 3 parameters you can pass, a start, a stop, and a step size. Let's see some examples:"
      ],
      "metadata": {
        "id": "YY9NHQBuqbsS"
      }
    },
    {
      "cell_type": "code",
      "source": [
        "range(0,11)"
      ],
      "metadata": {
        "id": "J2PlYJ8yqhz_"
      },
      "execution_count": null,
      "outputs": []
    },
    {
      "cell_type": "code",
      "source": [
        "# Third parameter is step size!\n",
        "# step size just means how big of a jump/leap/step you \n",
        "# take from the starting number to get to the next number.\n",
        "\n",
        "range(0,11,2)"
      ],
      "metadata": {
        "id": "xYOYlidvqmcq"
      },
      "execution_count": null,
      "outputs": []
    },
    {
      "cell_type": "markdown",
      "source": [
        "Exercise:\n",
        "\n",
        "a) Create a range of values between 0 and 100\n",
        "\n",
        "b) Create a range of values between 0 and 100 that are even\n",
        "\n",
        "c) Create a range of values between 50 and 200 that have a step size of 5"
      ],
      "metadata": {
        "id": "W2AWkoHl7VSP"
      }
    },
    {
      "cell_type": "code",
      "source": [],
      "metadata": {
        "id": "xwZxkl9w7nH7"
      },
      "execution_count": null,
      "outputs": []
    },
    {
      "cell_type": "markdown",
      "source": [
        "## min and max\n",
        "\n",
        "Quickly check the minimum or maximum of a list with these functions."
      ],
      "metadata": {
        "id": "evP91lrQsquO"
      }
    },
    {
      "cell_type": "code",
      "source": [
        "mylist = [10,20,30,40,100]"
      ],
      "metadata": {
        "id": "70AkpLvOqq4u"
      },
      "execution_count": null,
      "outputs": []
    },
    {
      "cell_type": "code",
      "source": [
        "min(mylist)"
      ],
      "metadata": {
        "id": "CLW4CgW3svrB"
      },
      "execution_count": null,
      "outputs": []
    },
    {
      "cell_type": "code",
      "source": [
        "max(mylist)"
      ],
      "metadata": {
        "id": "L2duCl7asxvA"
      },
      "execution_count": null,
      "outputs": []
    },
    {
      "cell_type": "markdown",
      "source": [
        "Exercise: Create your own list of values using range and work out the min and max"
      ],
      "metadata": {
        "id": "kkjKo1J77o9B"
      }
    },
    {
      "cell_type": "markdown",
      "source": [
        "## random\n",
        "\n",
        "Python comes with a built in random library. There are a lot of functions included in this random library, so we will only show you one useful functions for now"
      ],
      "metadata": {
        "id": "OHHoySTfs2MG"
      }
    },
    {
      "cell_type": "code",
      "source": [
        "from random import randint"
      ],
      "metadata": {
        "id": "bpSZ_4jds6Xg"
      },
      "execution_count": null,
      "outputs": []
    },
    {
      "cell_type": "code",
      "source": [
        "# Return random integer in range [a, b], including both end points.\n",
        "randint(0,100)"
      ],
      "metadata": {
        "id": "nSq5BYpfs-X1"
      },
      "execution_count": null,
      "outputs": []
    },
    {
      "cell_type": "markdown",
      "source": [
        "## input"
      ],
      "metadata": {
        "id": "1JavMOq0ubo-"
      }
    },
    {
      "cell_type": "code",
      "source": [
        "input('Please enter your name ')"
      ],
      "metadata": {
        "id": "ydt0P37hufUV",
        "colab": {
          "base_uri": "https://localhost:8080/",
          "height": 53
        },
        "outputId": "d1aca275-c741-4e6b-ef33-af89599df38e"
      },
      "execution_count": null,
      "outputs": [
        {
          "name": "stdout",
          "output_type": "stream",
          "text": [
            "Please enter your name Anna\n"
          ]
        },
        {
          "output_type": "execute_result",
          "data": {
            "text/plain": [
              "'Anna'"
            ],
            "application/vnd.google.colaboratory.intrinsic+json": {
              "type": "string"
            }
          },
          "metadata": {},
          "execution_count": 5
        }
      ]
    },
    {
      "cell_type": "code",
      "source": [
        "name = input('Please enter your name: ')"
      ],
      "metadata": {
        "colab": {
          "base_uri": "https://localhost:8080/"
        },
        "id": "Kmm34Fqamq-l",
        "outputId": "981899ef-d21b-4ecf-d64f-755223c26c9e"
      },
      "execution_count": null,
      "outputs": [
        {
          "name": "stdout",
          "output_type": "stream",
          "text": [
            "Please enter your name: Chanaye\n"
          ]
        }
      ]
    },
    {
      "cell_type": "code",
      "source": [
        "name"
      ],
      "metadata": {
        "colab": {
          "base_uri": "https://localhost:8080/",
          "height": 36
        },
        "id": "R6KHFCx6nFer",
        "outputId": "5a1c0618-82e1-4f6f-8c47-5cf225bae4fb"
      },
      "execution_count": null,
      "outputs": [
        {
          "output_type": "execute_result",
          "data": {
            "text/plain": [
              "'Chanaye'"
            ],
            "application/vnd.google.colaboratory.intrinsic+json": {
              "type": "string"
            }
          },
          "metadata": {},
          "execution_count": 10
        }
      ]
    },
    {
      "cell_type": "markdown",
      "source": [
        "Exercise: Write a program that asks for two numbers and then multiplies those two numbers together and print out the answer"
      ],
      "metadata": {
        "id": "A5CfVHrU77vH"
      }
    },
    {
      "cell_type": "code",
      "source": [],
      "metadata": {
        "id": "3br79jtI8G6y"
      },
      "execution_count": null,
      "outputs": []
    },
    {
      "cell_type": "markdown",
      "source": [
        "Exercise: Write a program thats asks for four numbers and then sum the first 3 numbers together and subtract the final number and then multiply the answer by 2 & print the answer\n",
        "\n",
        "(REMEMBER BIDMAS)"
      ],
      "metadata": {
        "id": "gb2fzOQ58GNX"
      }
    },
    {
      "cell_type": "code",
      "source": [],
      "metadata": {
        "id": "LQczB1Mc8Iap"
      },
      "execution_count": null,
      "outputs": []
    },
    {
      "cell_type": "markdown",
      "source": [
        "Exercise: Using variables & F Strings create a program that welcomes someone who gives their name"
      ],
      "metadata": {
        "id": "wyVsR5sx8aVU"
      }
    },
    {
      "cell_type": "code",
      "source": [
        "name = input('Please enter your name: ')\n",
        "print(f'Welcome {name}!')"
      ],
      "metadata": {
        "id": "dgyfLZSL8Zpz",
        "colab": {
          "base_uri": "https://localhost:8080/"
        },
        "outputId": "2e3084cb-93ec-427d-9720-ad5066b45948"
      },
      "execution_count": null,
      "outputs": [
        {
          "output_type": "stream",
          "name": "stdout",
          "text": [
            "Please enter your name: Anna\n",
            "Welcome Anna!\n"
          ]
        }
      ]
    },
    {
      "cell_type": "code",
      "source": [
        "print('welcome name')"
      ],
      "metadata": {
        "colab": {
          "base_uri": "https://localhost:8080/"
        },
        "id": "iI9rXq-YoSvV",
        "outputId": "5ce7f298-7864-4030-e946-72a9f794faa7"
      },
      "execution_count": null,
      "outputs": [
        {
          "output_type": "stream",
          "name": "stdout",
          "text": [
            "welcome name\n"
          ]
        }
      ]
    },
    {
      "cell_type": "markdown",
      "source": [
        "**Challenge: Create a Total Bill Calculator**\n",
        "\n",
        "Ask for the total bill amount\n",
        "\n",
        "Ask how many people \n",
        "\n",
        "Ask what % of tip they want to give 10,12 or 15\n",
        "\n",
        "Now tell them how much each person should pay for their meal"
      ],
      "metadata": {
        "id": "ui4_x3sE8pSi"
      }
    },
    {
      "cell_type": "code",
      "source": [
        "age = input('age please')"
      ],
      "metadata": {
        "id": "5sQmgxUE8tua",
        "colab": {
          "base_uri": "https://localhost:8080/"
        },
        "outputId": "cac9e0a4-3f6d-41a5-e1f2-2534f3ba1767"
      },
      "execution_count": null,
      "outputs": [
        {
          "name": "stdout",
          "output_type": "stream",
          "text": [
            "age please28\n"
          ]
        }
      ]
    },
    {
      "cell_type": "code",
      "source": [
        "type(age)"
      ],
      "metadata": {
        "colab": {
          "base_uri": "https://localhost:8080/"
        },
        "id": "pTQKKprlvOZ4",
        "outputId": "e1bfb9c4-551f-4d17-fb27-7e122a5679f4"
      },
      "execution_count": null,
      "outputs": [
        {
          "output_type": "execute_result",
          "data": {
            "text/plain": [
              "str"
            ]
          },
          "metadata": {},
          "execution_count": 15
        }
      ]
    },
    {
      "cell_type": "code",
      "source": [
        "nine = '9'"
      ],
      "metadata": {
        "id": "iXPNIujQwCyu"
      },
      "execution_count": null,
      "outputs": []
    },
    {
      "cell_type": "code",
      "source": [
        "nine"
      ],
      "metadata": {
        "colab": {
          "base_uri": "https://localhost:8080/",
          "height": 36
        },
        "id": "PuRMfNtAxSQY",
        "outputId": "9ea643d2-22e8-414a-b7ad-b9811f5a2481"
      },
      "execution_count": null,
      "outputs": [
        {
          "output_type": "execute_result",
          "data": {
            "text/plain": [
              "'9'"
            ],
            "application/vnd.google.colaboratory.intrinsic+json": {
              "type": "string"
            }
          },
          "metadata": {},
          "execution_count": 36
        }
      ]
    },
    {
      "cell_type": "code",
      "source": [
        "type(nine)"
      ],
      "metadata": {
        "colab": {
          "base_uri": "https://localhost:8080/"
        },
        "id": "G6WZPhcpwFTp",
        "outputId": "81d793fd-5ebc-4ad5-fafd-72f1fe4b4505"
      },
      "execution_count": null,
      "outputs": [
        {
          "output_type": "execute_result",
          "data": {
            "text/plain": [
              "str"
            ]
          },
          "metadata": {},
          "execution_count": 37
        }
      ]
    },
    {
      "cell_type": "code",
      "source": [
        "nine = int(nine)"
      ],
      "metadata": {
        "id": "h0UpqW-LxV4s"
      },
      "execution_count": null,
      "outputs": []
    },
    {
      "cell_type": "code",
      "source": [
        "type(nine)"
      ],
      "metadata": {
        "colab": {
          "base_uri": "https://localhost:8080/"
        },
        "id": "HuFtJWqZxexK",
        "outputId": "768d374a-6698-4801-bf0b-2b94c728fffa"
      },
      "execution_count": null,
      "outputs": [
        {
          "output_type": "execute_result",
          "data": {
            "text/plain": [
              "int"
            ]
          },
          "metadata": {},
          "execution_count": 39
        }
      ]
    },
    {
      "cell_type": "code",
      "source": [
        "print(int(nine))"
      ],
      "metadata": {
        "colab": {
          "base_uri": "https://localhost:8080/"
        },
        "id": "mHQFxh5xvfRw",
        "outputId": "da90f998-339e-4f2a-9981-2684a8386bf7"
      },
      "execution_count": null,
      "outputs": [
        {
          "output_type": "stream",
          "name": "stdout",
          "text": [
            "9\n"
          ]
        }
      ]
    },
    {
      "cell_type": "code",
      "source": [
        "type(nine)"
      ],
      "metadata": {
        "colab": {
          "base_uri": "https://localhost:8080/"
        },
        "id": "jhMo7-xdwKmK",
        "outputId": "b02a6a13-bf44-4757-c59a-1385c31c1b60"
      },
      "execution_count": null,
      "outputs": [
        {
          "output_type": "execute_result",
          "data": {
            "text/plain": [
              "int"
            ]
          },
          "metadata": {},
          "execution_count": 31
        }
      ]
    },
    {
      "cell_type": "code",
      "source": [
        "age = int(input('age please: '))"
      ],
      "metadata": {
        "colab": {
          "base_uri": "https://localhost:8080/"
        },
        "id": "69Rs6c94vQtv",
        "outputId": "a7899a61-1637-4d4e-bcc5-978d8982802b"
      },
      "execution_count": null,
      "outputs": [
        {
          "name": "stdout",
          "output_type": "stream",
          "text": [
            "age please: 28\n"
          ]
        }
      ]
    },
    {
      "cell_type": "code",
      "source": [
        "type(age)"
      ],
      "metadata": {
        "colab": {
          "base_uri": "https://localhost:8080/"
        },
        "id": "UZRSSXvEvZ3d",
        "outputId": "71e3cfa4-ac7b-430b-ab75-6138439b68ef"
      },
      "execution_count": null,
      "outputs": [
        {
          "output_type": "execute_result",
          "data": {
            "text/plain": [
              "int"
            ]
          },
          "metadata": {},
          "execution_count": 29
        }
      ]
    },
    {
      "cell_type": "markdown",
      "source": [
        "# if, elif, else Statements\n",
        "\n",
        "<code>if</code> Statements in Python allows us to tell the computer to perform alternative actions based on a certain set of results.\n",
        "\n",
        "Verbally, we can imagine we are telling the computer:\n",
        "\n",
        "\"Hey if this case happens, perform some action\"\n",
        "\n",
        "We can then expand the idea further with <code>elif</code> and <code>else</code> statements, which allow us to tell the computer:\n",
        "\n",
        "\"Hey if this case happens, perform some action. Else, if another case happens, perform some other action. Else, if *none* of the above cases happened, perform this action.\"\n",
        "\n",
        "Let's go ahead and look at the syntax format for <code>if</code> statements to get a better idea of this:\n",
        "\n",
        "    if case1:\n",
        "        perform action1\n",
        "    elif case2:\n",
        "        perform action2\n",
        "    else: \n",
        "        perform action3"
      ],
      "metadata": {
        "id": "RngGqTR2Xdbq"
      }
    },
    {
      "cell_type": "code",
      "source": [
        "if 3>1:\n",
        "    print('3 is greater than 1')"
      ],
      "metadata": {
        "colab": {
          "base_uri": "https://localhost:8080/"
        },
        "id": "ueKgUPGWXeJH",
        "outputId": "0e03dc5b-b789-4652-d935-fd3c461570c1"
      },
      "execution_count": null,
      "outputs": [
        {
          "output_type": "stream",
          "name": "stdout",
          "text": [
            "3 is greater than 1\n"
          ]
        }
      ]
    },
    {
      "cell_type": "code",
      "source": [
        "if 3>1:\n",
        "    print('3 is greater than 1')\n",
        "else:\n",
        "    print('3 is less than 1')"
      ],
      "metadata": {
        "colab": {
          "base_uri": "https://localhost:8080/"
        },
        "id": "02BpLZ6qpnbg",
        "outputId": "9c76b946-eca8-46cd-d96b-acd559196484"
      },
      "execution_count": null,
      "outputs": [
        {
          "output_type": "stream",
          "name": "stdout",
          "text": [
            "3 is greater than 1\n"
          ]
        }
      ]
    },
    {
      "cell_type": "code",
      "source": [
        "person = 'George'\n",
        "\n",
        "if person == 'Sammy':\n",
        "    print('Welcome Sammy!')\n",
        "elif person =='George':\n",
        "    print('Welcome George!')\n",
        "else:\n",
        "    print(\"Welcome, what's your name?\")"
      ],
      "metadata": {
        "id": "zc3HPrBDp44l"
      },
      "execution_count": null,
      "outputs": []
    },
    {
      "cell_type": "markdown",
      "source": [
        "## Indentation\n",
        "\n",
        "It is important to keep a good understanding of how indentation works in Python to maintain the structure and order of your code. We will touch on this topic again when we start building out functions!"
      ],
      "metadata": {
        "id": "O6V45bsqp8Vq"
      }
    },
    {
      "cell_type": "markdown",
      "source": [
        "# for Loops\n",
        "\n",
        "A <code>for</code> loop acts as an iterator in Python; it goes through items that are in a *sequence* or any other iterable item. Objects that we've learned about that we can iterate over include strings, lists, tuples, and even built-in iterables for dictionaries, such as keys or values.\n",
        "\n",
        "We've already seen the <code>for</code> statement a little bit in past lectures but now let's formalize our understanding.\n",
        "\n",
        "Here's the general format for a <code>for</code> loop in Python:\n",
        "\n",
        "    for item in object:\n",
        "        statements to do stuff"
      ],
      "metadata": {
        "id": "cOyYihGMv52j"
      }
    },
    {
      "cell_type": "markdown",
      "source": [
        "The variable name used for the item is completely up to the coder, so use your best judgment for choosing a name that makes sense and you will be able to understand when revisiting your code. This item name can then be referenced inside your loop, for example if you wanted to use <code>if</code> statements to perform checks.\n",
        "\n",
        "Let's go ahead and work through several example of <code>for</code> loops using a variety of data object types. We'll start simple and build more complexity later on.\n",
        "\n",
        "## Example 1\n",
        "Iterating through a list"
      ],
      "metadata": {
        "id": "06vTE8O7v-PC"
      }
    },
    {
      "cell_type": "code",
      "source": [
        "# We'll learn how to automate this sort of list in the next lecture\n",
        "list1 = [1,2,3,4,5,6,7,8,9,10]"
      ],
      "metadata": {
        "id": "asHGJ8fTv5mr"
      },
      "execution_count": null,
      "outputs": []
    },
    {
      "cell_type": "code",
      "source": [
        "for num in list1:\n",
        "    print(num)"
      ],
      "metadata": {
        "id": "bAmv0k-IwC2W"
      },
      "execution_count": null,
      "outputs": []
    },
    {
      "cell_type": "markdown",
      "source": [
        "### Reintroducing Modulo\n",
        "The modulo allows us to get the remainder in a division and uses the % symbol. For example:"
      ],
      "metadata": {
        "id": "JdllSPtswLNX"
      }
    },
    {
      "cell_type": "code",
      "source": [
        "# 3 Remainder 1\n",
        "10 % 3"
      ],
      "metadata": {
        "id": "ocLeS--BwTFu"
      },
      "execution_count": null,
      "outputs": []
    },
    {
      "cell_type": "code",
      "source": [
        "# 2 no remainder\n",
        "4 % 2"
      ],
      "metadata": {
        "id": "PMHsAM-dwaGZ"
      },
      "execution_count": null,
      "outputs": []
    },
    {
      "cell_type": "markdown",
      "source": [
        "Notice that if a number is fully divisible with no remainder, the result of the modulo call is 0. We can use this to test for even numbers, since if a number modulo 2 is equal to 0, that means it is an even number!\n",
        "\n",
        "Back to the <code>for</code> loops!\n",
        "\n",
        "## Example 2\n",
        "Let's print only the even numbers from that list!"
      ],
      "metadata": {
        "id": "iqb4239bwc3k"
      }
    },
    {
      "cell_type": "code",
      "source": [
        "for num in list1:\n",
        "    if num % 2 == 0:\n",
        "        print(num)"
      ],
      "metadata": {
        "id": "gwnHLF_dweKt"
      },
      "execution_count": null,
      "outputs": []
    },
    {
      "cell_type": "markdown",
      "source": [
        "Lets add an else"
      ],
      "metadata": {
        "id": "tnj4eucuwjuG"
      }
    },
    {
      "cell_type": "code",
      "source": [
        "for num in list1:\n",
        "    if num % 2 == 0:\n",
        "        print(num)\n",
        "    else:\n",
        "        print('Odd number')"
      ],
      "metadata": {
        "id": "5BrQRLnRwiqd"
      },
      "execution_count": null,
      "outputs": []
    },
    {
      "cell_type": "markdown",
      "source": [
        "## Example 3\n",
        "We've used <code>for</code> loops with lists, how about with strings? Remember strings are a sequence so when we iterate through them we will be accessing each item in that string."
      ],
      "metadata": {
        "id": "spYK2RuXwuiz"
      }
    },
    {
      "cell_type": "code",
      "source": [
        "for letter in 'This is a string.':\n",
        "    print(letter)"
      ],
      "metadata": {
        "id": "QR9hRAUowxTJ"
      },
      "execution_count": null,
      "outputs": []
    },
    {
      "cell_type": "markdown",
      "source": [
        "## Example 4"
      ],
      "metadata": {
        "id": "hKQEmiCmx9MC"
      }
    },
    {
      "cell_type": "code",
      "source": [
        "d = {'k1':1,'k2':2,'k3':3}"
      ],
      "metadata": {
        "id": "d-GawOgTx_xB"
      },
      "execution_count": null,
      "outputs": []
    },
    {
      "cell_type": "code",
      "source": [
        "for item in d:\n",
        "    print(item)"
      ],
      "metadata": {
        "id": "LhnXbjybyB4u"
      },
      "execution_count": null,
      "outputs": []
    },
    {
      "cell_type": "markdown",
      "source": [
        "Notice how this produces only the keys. So how can we get the values? Or both the keys and the values? \n",
        "\n",
        "We're going to introduce three new Dictionary methods: **.keys()**, **.values()** and **.items()**\n",
        "\n",
        "In Python each of these methods return a *dictionary view object*. It supports operations like membership test and iteration, but its contents are not independent of the original dictionary – it is only a view. Let's see it in action:"
      ],
      "metadata": {
        "id": "ntynb1RZyKJL"
      }
    },
    {
      "cell_type": "code",
      "source": [
        "# Create a dictionary view object\n",
        "d.items()"
      ],
      "metadata": {
        "id": "faQPhHgiykI8"
      },
      "execution_count": null,
      "outputs": []
    },
    {
      "cell_type": "code",
      "source": [
        "# Dictionary unpacking\n",
        "for k,v in d.items():\n",
        "    print(k)\n",
        "    print(v) "
      ],
      "metadata": {
        "id": "mwKW04IeyHzx"
      },
      "execution_count": null,
      "outputs": []
    },
    {
      "cell_type": "markdown",
      "source": [
        "Exercise 5: \n",
        "\n",
        "Create a loop which prints out numbers between 0 and 12 and the square."
      ],
      "metadata": {
        "id": "mt_7uP0p5h-f"
      }
    },
    {
      "cell_type": "code",
      "source": [
        "# code here\n"
      ],
      "metadata": {
        "id": "HPBrM92l5j7b"
      },
      "execution_count": null,
      "outputs": []
    },
    {
      "cell_type": "markdown",
      "source": [
        "**FIZZBUZZ Challenge!**\n",
        "\n",
        "Write a program that prints the numbers from 1 to 100.\n",
        "But for multiples of three print “Fizz” instead of the number.\n",
        "\n",
        "For the multiples of five print “Buzz”.\n",
        "\n",
        "For numbers which are multiples of both three and five print “FizzBuzz”"
      ],
      "metadata": {
        "id": "_R9ofRvMy_kl"
      }
    },
    {
      "cell_type": "code",
      "source": [],
      "metadata": {
        "id": "joEWQ5qkzAaW"
      },
      "execution_count": null,
      "outputs": []
    },
    {
      "cell_type": "code",
      "source": [],
      "metadata": {
        "id": "tqycRxXH9wMO"
      },
      "execution_count": null,
      "outputs": []
    },
    {
      "cell_type": "markdown",
      "metadata": {
        "id": "CwSD388eGpWm"
      },
      "source": [
        "# Functions\n",
        "\n",
        "## Introduction to Functions\n",
        "\n",
        "This session will consist of explaining what a function is in Python and how to create one. Functions will be one of our main building blocks when we construct larger and larger amounts of code to solve problems.\n",
        "\n",
        "### What is a function?\n",
        "\n",
        "Formally, a function is a useful device that groups together a set of statements so they can be run more than once. They can also let us specify parameters that can serve as inputs to the functions.\n",
        "\n",
        "On a more fundamental level, functions allow us to not have to repeatedly write the same code again and again. If you remember back to the lessons on strings and lists, remember that we used a function len() to get the length of a string. Since checking the length of a sequence is a common task you would want to write a function that can do this repeatedly at command.\n",
        "\n",
        "Functions will be one of most basic levels of reusing code in Python, and it will also allow us to start thinking of program design (we will dive much deeper into the ideas of design when we learn about Object Oriented Programming)."
      ]
    },
    {
      "cell_type": "markdown",
      "metadata": {
        "id": "kM84WZQHGpWm"
      },
      "source": [
        "### Why even use functions?\n",
        "\n",
        "Put simply, you should use functions when you plan on using a block of code multiple times. The function will allow you to call the same block of code without having to write it multiple times. This in turn will allow you to create more complex Python scripts. To really understand this though, we should actually write our own functions! "
      ]
    },
    {
      "cell_type": "markdown",
      "metadata": {
        "id": "l1KnMUYnGpWn"
      },
      "source": [
        "## Function Topics\n",
        "* def keyword\n",
        "* simple example of a function\n",
        "* calling a function with ()\n",
        "* accepting parameters\n",
        "* print versus return\n",
        "* adding in logic inside a function\n",
        "* multiple returns inside a function\n",
        "* adding in loops inside a function\n"
      ]
    },
    {
      "cell_type": "markdown",
      "metadata": {
        "id": "xsEEoKwKGpWn"
      },
      "source": [
        "### def keyword\n",
        "\n",
        "Let's see how to build out a function's syntax in Python. It has the following form:"
      ]
    },
    {
      "cell_type": "code",
      "execution_count": null,
      "metadata": {
        "collapsed": true,
        "id": "obsktHKmGpWn"
      },
      "outputs": [],
      "source": [
        "def name_of_function(arg1,arg2):\n",
        "    '''\n",
        "    This is where the function's Document String (docstring) goes.\n",
        "    When you call help() on your function it will be printed out.\n",
        "    '''\n",
        "    # Do stuff here\n",
        "    # Return desired result"
      ]
    },
    {
      "cell_type": "markdown",
      "metadata": {
        "id": "Z4mVuAikGpWo"
      },
      "source": [
        "We begin with <code>def</code> then a space followed by the name of the function. Try to keep names relevant, for example len() is a good name for a length() function. Also be careful with names, you wouldn't want to call a function the same name as a [built-in function in Python](https://docs.python.org/3/library/functions.html) (such as len).\n",
        "\n",
        "Next come a pair of parentheses with a number of arguments separated by a comma. These arguments are the inputs for your function. You'll be able to use these inputs in your function and reference them. After this you put a colon.\n",
        "\n",
        "Now here is the important step, you must indent to begin the code inside your function correctly. Python makes use of *whitespace* to organize code. Lots of other programing languages do not do this, so keep that in mind.\n",
        "\n",
        "Next you'll see the docstring, this is where you write a basic description of the function. Using Jupyter and Jupyter Notebooks, you'll be able to read these docstrings by pressing Shift+Tab after a function name. Docstrings are not necessary for simple functions, but it's good practice to put them in so you or other people can easily understand the code you write.\n",
        "\n",
        "After all this you begin writing the code you wish to execute.\n",
        "\n",
        "The best way to learn functions is by going through examples. So let's try to go through examples that relate back to the various objects and data structures we learned about before."
      ]
    },
    {
      "cell_type": "markdown",
      "metadata": {
        "id": "i9b_WAKeGpWq"
      },
      "source": [
        "### Simple example of a function"
      ]
    },
    {
      "cell_type": "code",
      "execution_count": null,
      "metadata": {
        "collapsed": true,
        "id": "HThZ4IllGpWq"
      },
      "outputs": [],
      "source": [
        "def say_hello():\n",
        "    print('hello')"
      ]
    },
    {
      "cell_type": "markdown",
      "metadata": {
        "id": "tJpJ_67wGpWq"
      },
      "source": [
        "### Calling a function with ()"
      ]
    },
    {
      "cell_type": "markdown",
      "metadata": {
        "id": "xv3dc3fhGpWr"
      },
      "source": [
        "Call the function:"
      ]
    },
    {
      "cell_type": "code",
      "execution_count": null,
      "metadata": {
        "id": "Z4Xeq1TiGpWr",
        "outputId": "30377bde-afe8-487e-d581-53ed85b21acc"
      },
      "outputs": [
        {
          "name": "stdout",
          "output_type": "stream",
          "text": [
            "hello\n"
          ]
        }
      ],
      "source": [
        "say_hello()"
      ]
    },
    {
      "cell_type": "markdown",
      "metadata": {
        "id": "AuoKPC43GpWr"
      },
      "source": [
        "If you forget the parenthesis (), it will simply display the fact that say_hello is a function. Later on we will learn we can actually pass in functions into other functions! But for now, simply remember to call functions with ()."
      ]
    },
    {
      "cell_type": "code",
      "execution_count": null,
      "metadata": {
        "id": "uyMe_GGRGpWs",
        "outputId": "0fd737f1-8e91-4d7e-9b60-b81209eb9a39"
      },
      "outputs": [
        {
          "data": {
            "text/plain": [
              "<function __main__.say_hello>"
            ]
          },
          "execution_count": 7,
          "metadata": {},
          "output_type": "execute_result"
        }
      ],
      "source": [
        "say_hello"
      ]
    },
    {
      "cell_type": "markdown",
      "metadata": {
        "id": "KDqKr2vfGpWs"
      },
      "source": [
        "### Accepting parameters (arguments)\n",
        "Let's write a function that greets people with their name."
      ]
    },
    {
      "cell_type": "code",
      "execution_count": null,
      "metadata": {
        "collapsed": true,
        "id": "fSNfwqiVGpWs"
      },
      "outputs": [],
      "source": [
        "def greeting(name):\n",
        "    print(f'Hello {name}')"
      ]
    },
    {
      "cell_type": "code",
      "execution_count": null,
      "metadata": {
        "colab": {
          "base_uri": "https://localhost:8080/"
        },
        "id": "g96CcQh_GpWs",
        "outputId": "906a2291-ad4a-4e67-d044-759ff34119a6"
      },
      "outputs": [
        {
          "output_type": "stream",
          "name": "stdout",
          "text": [
            "Hello Anna\n"
          ]
        }
      ],
      "source": [
        "greeting('Anna')"
      ]
    },
    {
      "cell_type": "markdown",
      "metadata": {
        "id": "tqHPcULBGpWs"
      },
      "source": [
        "## Using return\n",
        "So far we've only seen print() used, but if we actually want to save the resulting variable we need to use the **return** keyword.\n",
        "\n",
        "Let's see some example that use a <code>return</code> statement. <code>return</code> allows a function to *return* a result that can then be stored as a variable, or used in whatever manner a user wants.\n",
        "\n",
        "### Example: Addition function"
      ]
    },
    {
      "cell_type": "code",
      "execution_count": null,
      "metadata": {
        "collapsed": true,
        "id": "fNXKlz8oGpWs"
      },
      "outputs": [],
      "source": [
        "def add_num(num1,num2):\n",
        "    return num1+num2"
      ]
    },
    {
      "cell_type": "code",
      "execution_count": null,
      "metadata": {
        "id": "bIn8y-6CGpWt",
        "outputId": "31b0419e-b8d7-4cae-882d-94a6f5ba8625"
      },
      "outputs": [
        {
          "data": {
            "text/plain": [
              "9"
            ]
          },
          "execution_count": 7,
          "metadata": {},
          "output_type": "execute_result"
        }
      ],
      "source": [
        "add_num(4,5)"
      ]
    },
    {
      "cell_type": "code",
      "execution_count": null,
      "metadata": {
        "collapsed": true,
        "id": "pCqtzq8wGpWt"
      },
      "outputs": [],
      "source": [
        "# Can also save as variable due to return\n",
        "result = add_num(4,5)"
      ]
    },
    {
      "cell_type": "code",
      "execution_count": null,
      "metadata": {
        "id": "5WYHRxyWGpWt",
        "outputId": "25cdd0dd-672d-4f0c-c412-dac6443f2906"
      },
      "outputs": [
        {
          "name": "stdout",
          "output_type": "stream",
          "text": [
            "9\n"
          ]
        }
      ],
      "source": [
        "print(result)"
      ]
    },
    {
      "cell_type": "markdown",
      "metadata": {
        "id": "NWcQQ84xGpWt"
      },
      "source": [
        "What happens if we input two strings?"
      ]
    },
    {
      "cell_type": "code",
      "execution_count": null,
      "metadata": {
        "id": "pWAZCh1bGpWt",
        "outputId": "41ceedc3-a8fa-40a0-b665-dfb84a8eea12"
      },
      "outputs": [
        {
          "data": {
            "text/plain": [
              "'onetwo'"
            ]
          },
          "execution_count": 10,
          "metadata": {},
          "output_type": "execute_result"
        }
      ],
      "source": [
        "add_num('one','two')"
      ]
    },
    {
      "cell_type": "markdown",
      "metadata": {
        "id": "l09LG-70GpWt"
      },
      "source": [
        "## Very Common Question: \"What is the difference between *return* and *print*?\"\n",
        "\n",
        "**The return keyword allows you to actually save the result of the output of a function as a variable. The print() function simply displays the output to you, but doesn't save it for future use. Let's explore this in more detail**"
      ]
    },
    {
      "cell_type": "code",
      "execution_count": null,
      "metadata": {
        "collapsed": true,
        "id": "qQ6VweROGpWt"
      },
      "outputs": [],
      "source": [
        "def print_result(a,b):\n",
        "    print(a+b)"
      ]
    },
    {
      "cell_type": "code",
      "execution_count": null,
      "metadata": {
        "collapsed": true,
        "id": "4LHRP27PGpWu"
      },
      "outputs": [],
      "source": [
        "def return_result(a,b):\n",
        "    return a+b"
      ]
    },
    {
      "cell_type": "code",
      "execution_count": null,
      "metadata": {
        "id": "oOXj3smMGpWu",
        "outputId": "b7198d3d-862a-46bc-f018-8328b269e178"
      },
      "outputs": [
        {
          "name": "stdout",
          "output_type": "stream",
          "text": [
            "15\n"
          ]
        }
      ],
      "source": [
        "print_result(10,5)"
      ]
    },
    {
      "cell_type": "code",
      "execution_count": null,
      "metadata": {
        "id": "t2nQjU6PGpWu",
        "outputId": "1a684a3b-1bae-46a0-8230-7f5e2e39d1e8"
      },
      "outputs": [
        {
          "data": {
            "text/plain": [
              "15"
            ]
          },
          "execution_count": 4,
          "metadata": {},
          "output_type": "execute_result"
        }
      ],
      "source": [
        "# You won't see any output if you run this in a .py script\n",
        "return_result(10,5)"
      ]
    },
    {
      "cell_type": "markdown",
      "metadata": {
        "id": "ao8CDseKGpWu"
      },
      "source": [
        "**But what happens if we actually want to save this result for later use?**"
      ]
    },
    {
      "cell_type": "code",
      "execution_count": null,
      "metadata": {
        "id": "mScsF3QRGpWu",
        "outputId": "199d2f8c-74d4-46d3-da4e-f6ad3d0a484f"
      },
      "outputs": [
        {
          "name": "stdout",
          "output_type": "stream",
          "text": [
            "40\n"
          ]
        }
      ],
      "source": [
        "my_result = print_result(20,20)"
      ]
    },
    {
      "cell_type": "code",
      "execution_count": null,
      "metadata": {
        "collapsed": true,
        "id": "35LnKEK8GpWu"
      },
      "outputs": [],
      "source": [
        "my_result"
      ]
    },
    {
      "cell_type": "code",
      "execution_count": null,
      "metadata": {
        "id": "Kp4V5MVRGpWu",
        "outputId": "d6e17aab-6c0b-41e6-834c-5d44d77c5048"
      },
      "outputs": [
        {
          "data": {
            "text/plain": [
              "NoneType"
            ]
          },
          "execution_count": 7,
          "metadata": {},
          "output_type": "execute_result"
        }
      ],
      "source": [
        "type(my_result)"
      ]
    },
    {
      "cell_type": "markdown",
      "metadata": {
        "id": "xaWomtIkGpWv"
      },
      "source": [
        "**Be careful! Notice how print_result() doesn't let you actually save the result to a variable! It only prints it out, with print() returning None for the assignment!**"
      ]
    },
    {
      "cell_type": "code",
      "execution_count": null,
      "metadata": {
        "collapsed": true,
        "id": "4qPeT7oQGpWv"
      },
      "outputs": [],
      "source": [
        "my_result = return_result(20,20)"
      ]
    },
    {
      "cell_type": "code",
      "execution_count": null,
      "metadata": {
        "id": "1DpjB3vaGpWv",
        "outputId": "63174dc5-f78f-48e0-f7f2-a3856e9907c8"
      },
      "outputs": [
        {
          "data": {
            "text/plain": [
              "40"
            ]
          },
          "execution_count": 9,
          "metadata": {},
          "output_type": "execute_result"
        }
      ],
      "source": [
        "my_result"
      ]
    },
    {
      "cell_type": "code",
      "execution_count": null,
      "metadata": {
        "id": "tgjTCqgNGpWv",
        "outputId": "1a75d4d2-60a4-420f-864f-9da9989f041d"
      },
      "outputs": [
        {
          "data": {
            "text/plain": [
              "80"
            ]
          },
          "execution_count": 10,
          "metadata": {},
          "output_type": "execute_result"
        }
      ],
      "source": [
        "my_result + my_result"
      ]
    },
    {
      "cell_type": "markdown",
      "metadata": {
        "id": "-QOgSxJlGpWv"
      },
      "source": [
        "# Adding Logic to Internal Function Operations\n",
        "\n",
        "So far we know quite a bit about constructing logical statements with Python, such as if/else/elif statements, for and while loops, checking if an item is **in** a list or **not in** a list (Useful Operators Lecture). Let's now see how we can perform these operations within a function."
      ]
    },
    {
      "cell_type": "markdown",
      "metadata": {
        "id": "m4iGpuxGGpWv"
      },
      "source": [
        "### Check if a number is even "
      ]
    },
    {
      "cell_type": "markdown",
      "metadata": {
        "id": "aJ-ebvPxGpWv"
      },
      "source": [
        "**Recall the mod operator % which returns the remainder after division, if a number is even then mod 2 (% 2) should be == to zero.**"
      ]
    },
    {
      "cell_type": "code",
      "execution_count": null,
      "metadata": {
        "id": "9TIhMPxJGpWv",
        "outputId": "6442b745-93f5-45d5-ea98-c77e62297fab"
      },
      "outputs": [
        {
          "data": {
            "text/plain": [
              "0"
            ]
          },
          "execution_count": 11,
          "metadata": {},
          "output_type": "execute_result"
        }
      ],
      "source": [
        "2 % 2"
      ]
    },
    {
      "cell_type": "code",
      "execution_count": null,
      "metadata": {
        "id": "WSG5waL9GpWv",
        "outputId": "06814e78-4007-49c2-d55e-946b6780eb87"
      },
      "outputs": [
        {
          "data": {
            "text/plain": [
              "0"
            ]
          },
          "execution_count": 12,
          "metadata": {},
          "output_type": "execute_result"
        }
      ],
      "source": [
        "20 % 2"
      ]
    },
    {
      "cell_type": "code",
      "execution_count": null,
      "metadata": {
        "id": "sUV2MC-LGpWv",
        "outputId": "3e8d0556-fc88-4dbd-e607-cea45ffa875d"
      },
      "outputs": [
        {
          "data": {
            "text/plain": [
              "1"
            ]
          },
          "execution_count": 14,
          "metadata": {},
          "output_type": "execute_result"
        }
      ],
      "source": [
        "21 % 2"
      ]
    },
    {
      "cell_type": "code",
      "execution_count": null,
      "metadata": {
        "id": "ay_Uq2YMGpWv",
        "outputId": "b5380226-cc46-400d-c768-5c4280f11b58"
      },
      "outputs": [
        {
          "data": {
            "text/plain": [
              "True"
            ]
          },
          "execution_count": 15,
          "metadata": {},
          "output_type": "execute_result"
        }
      ],
      "source": [
        "20 % 2 == 0"
      ]
    },
    {
      "cell_type": "code",
      "execution_count": null,
      "metadata": {
        "id": "kiwDtNCHGpWv",
        "outputId": "7379bbfc-2a82-43c1-b6ba-4d81f0d01c00"
      },
      "outputs": [
        {
          "data": {
            "text/plain": [
              "False"
            ]
          },
          "execution_count": 16,
          "metadata": {},
          "output_type": "execute_result"
        }
      ],
      "source": [
        "21 % 2 == 0"
      ]
    },
    {
      "cell_type": "markdown",
      "metadata": {
        "id": "iOPVcvr5GpWw"
      },
      "source": [
        "** Let's use this to construct a function. Notice how we simply return the boolean check.**"
      ]
    },
    {
      "cell_type": "code",
      "execution_count": null,
      "metadata": {
        "collapsed": true,
        "id": "EQWUZu7_GpWw"
      },
      "outputs": [],
      "source": [
        "def even_check(number):\n",
        "    return number % 2 == 0"
      ]
    },
    {
      "cell_type": "code",
      "execution_count": null,
      "metadata": {
        "id": "4M58Ko_AGpWw",
        "outputId": "65cece0c-2815-47ba-a87a-cf64977c315a"
      },
      "outputs": [
        {
          "data": {
            "text/plain": [
              "True"
            ]
          },
          "execution_count": 19,
          "metadata": {},
          "output_type": "execute_result"
        }
      ],
      "source": [
        "even_check(20)"
      ]
    },
    {
      "cell_type": "code",
      "execution_count": null,
      "metadata": {
        "id": "8ohJRZmdGpWw",
        "outputId": "658cb5b0-4af3-4bc3-cde6-38bc57cd9a77"
      },
      "outputs": [
        {
          "data": {
            "text/plain": [
              "False"
            ]
          },
          "execution_count": 21,
          "metadata": {},
          "output_type": "execute_result"
        }
      ],
      "source": [
        "even_check(21)"
      ]
    },
    {
      "cell_type": "markdown",
      "metadata": {
        "id": "v3yeSMa7GpWw"
      },
      "source": [
        "### Check if any number in  a list is even\n",
        "\n",
        "Let's return a boolean indicating if **any** number in a list is even. Notice here how **return** breaks out of the loop and exits the function"
      ]
    },
    {
      "cell_type": "code",
      "execution_count": null,
      "metadata": {
        "collapsed": true,
        "id": "IRVqi2_GGpWw"
      },
      "outputs": [],
      "source": [
        "def check_even_list(num_list):\n",
        "    # Go through each number\n",
        "    for number in num_list:\n",
        "        # Once we get a \"hit\" on an even number, we return True\n",
        "        if number % 2 == 0:\n",
        "            return True\n",
        "        # Otherwise we don't do anything\n",
        "        else:\n",
        "            pass"
      ]
    },
    {
      "cell_type": "markdown",
      "metadata": {
        "id": "WQwpDJlpGpWw"
      },
      "source": [
        "** Is this enough? NO! We're not returning anything if they are all odds!**"
      ]
    },
    {
      "cell_type": "code",
      "execution_count": null,
      "metadata": {
        "id": "WQ2U5Ah5GpWw",
        "outputId": "def8e01f-8cb0-4e48-894f-58d444413d72"
      },
      "outputs": [
        {
          "data": {
            "text/plain": [
              "True"
            ]
          },
          "execution_count": 26,
          "metadata": {},
          "output_type": "execute_result"
        }
      ],
      "source": [
        "check_even_list([1,2,3])"
      ]
    },
    {
      "cell_type": "code",
      "execution_count": null,
      "metadata": {
        "collapsed": true,
        "id": "UUFUvzcHGpWw"
      },
      "outputs": [],
      "source": [
        "check_even_list([1,1,1])"
      ]
    },
    {
      "cell_type": "markdown",
      "metadata": {
        "id": "6_fy1DdUGpWw"
      },
      "source": [
        "** VERY COMMON MISTAKE!! LET'S SEE A COMMON LOGIC ERROR, NOTE THIS IS WRONG!!!**"
      ]
    },
    {
      "cell_type": "code",
      "execution_count": null,
      "metadata": {
        "collapsed": true,
        "id": "dOYs8PR4GpWw"
      },
      "outputs": [],
      "source": [
        "def check_even_list(num_list):\n",
        "    # Go through each number\n",
        "    for number in num_list:\n",
        "        # Once we get a \"hit\" on an even number, we return True\n",
        "        if number % 2 == 0:\n",
        "            return True\n",
        "        # This is WRONG! This returns False at the very first odd number!\n",
        "        # It doesn't end up checking the other numbers in the list!\n",
        "        else:\n",
        "            return False"
      ]
    },
    {
      "cell_type": "code",
      "execution_count": null,
      "metadata": {
        "id": "CRF0P4YtGpWw",
        "outputId": "86ccca0c-7578-457b-b5fb-bf6b443f634a"
      },
      "outputs": [
        {
          "data": {
            "text/plain": [
              "False"
            ]
          },
          "execution_count": 30,
          "metadata": {},
          "output_type": "execute_result"
        }
      ],
      "source": [
        "# UH OH! It is returning False after hitting the first 1\n",
        "check_even_list([1,2,3])"
      ]
    },
    {
      "cell_type": "markdown",
      "metadata": {
        "id": "mKnbupmWGpWw"
      },
      "source": [
        "** Correct Approach: We need to initiate a return False AFTER running through the entire loop**"
      ]
    },
    {
      "cell_type": "code",
      "execution_count": null,
      "metadata": {
        "collapsed": true,
        "id": "0-_bNExgGpWw"
      },
      "outputs": [],
      "source": [
        "def check_even_list(num_list):\n",
        "    # Go through each number\n",
        "    for number in num_list:\n",
        "        # Once we get a \"hit\" on an even number, we return True\n",
        "        if number % 2 == 0:\n",
        "            return True\n",
        "        # Don't do anything if its not even\n",
        "        else:\n",
        "            pass\n",
        "    # Notice the indentation! This ensures we run through the entire for loop    \n",
        "    return False"
      ]
    },
    {
      "cell_type": "code",
      "execution_count": null,
      "metadata": {
        "id": "c0qktuukGpWx",
        "outputId": "b0b9711c-80e4-4861-c9b9-649edd4c841d"
      },
      "outputs": [
        {
          "data": {
            "text/plain": [
              "True"
            ]
          },
          "execution_count": 32,
          "metadata": {},
          "output_type": "execute_result"
        }
      ],
      "source": [
        "check_even_list([1,2,3])"
      ]
    },
    {
      "cell_type": "code",
      "execution_count": null,
      "metadata": {
        "id": "dIXfLjCNGpWx",
        "outputId": "596bff5d-e174-4485-902e-bbaff2a26d01"
      },
      "outputs": [
        {
          "data": {
            "text/plain": [
              "False"
            ]
          },
          "execution_count": 34,
          "metadata": {},
          "output_type": "execute_result"
        }
      ],
      "source": [
        "check_even_list([1,3,5])"
      ]
    },
    {
      "cell_type": "markdown",
      "metadata": {
        "id": "FFhfKj28GpWx"
      },
      "source": [
        "### Return all even numbers in a list\n",
        "\n",
        "Let's add more complexity, we now will return all the even numbers in a list, otherwise return an empty list."
      ]
    },
    {
      "cell_type": "code",
      "execution_count": null,
      "metadata": {
        "collapsed": true,
        "id": "JdapBtdGGpWx"
      },
      "outputs": [],
      "source": [
        "def check_even_list(num_list):\n",
        "    \n",
        "    even_numbers = []\n",
        "    \n",
        "    # Go through each number\n",
        "    for number in num_list:\n",
        "        # Once we get a \"hit\" on an even number, we append the even number\n",
        "        if number % 2 == 0:\n",
        "            even_numbers.append(number)\n",
        "        # Don't do anything if its not even\n",
        "        else:\n",
        "            pass\n",
        "    # Notice the indentation! This ensures we run through the entire for loop    \n",
        "    return even_numbers"
      ]
    },
    {
      "cell_type": "code",
      "execution_count": null,
      "metadata": {
        "id": "_D6JDHShGpWx",
        "outputId": "8b6f4e52-e3e5-4b43-93aa-ff4d7aa0d190"
      },
      "outputs": [
        {
          "data": {
            "text/plain": [
              "[2, 4, 6]"
            ]
          },
          "execution_count": 36,
          "metadata": {},
          "output_type": "execute_result"
        }
      ],
      "source": [
        "check_even_list([1,2,3,4,5,6])"
      ]
    },
    {
      "cell_type": "code",
      "execution_count": null,
      "metadata": {
        "id": "OnUiQ-kLGpWx",
        "outputId": "0bab324d-9fcb-49ff-ba34-cdabad7e5d05"
      },
      "outputs": [
        {
          "data": {
            "text/plain": [
              "[]"
            ]
          },
          "execution_count": 37,
          "metadata": {},
          "output_type": "execute_result"
        }
      ],
      "source": [
        "check_even_list([1,3,5])"
      ]
    },
    {
      "cell_type": "markdown",
      "source": [
        "Exercise: Build a discount calculator.\n",
        "\n",
        "Your function takes two arguments, the amount and percentage.\n",
        "\n",
        "Use the following formula to create your calculator: \n",
        "\n",
        " *new_amount = amount - (amount*(percentage/100))*\n",
        "\n",
        " Now create two input functions, the amount and the percentage of discount."
      ],
      "metadata": {
        "id": "WtK2KtupNEZT"
      }
    },
    {
      "cell_type": "code",
      "source": [],
      "metadata": {
        "id": "NgmZc-LUNFsQ"
      },
      "execution_count": null,
      "outputs": []
    }
  ],
  "metadata": {
    "kernelspec": {
      "display_name": "Python 3",
      "language": "python",
      "name": "python3"
    },
    "language_info": {
      "codemirror_mode": {
        "name": "ipython",
        "version": 3
      },
      "file_extension": ".py",
      "mimetype": "text/x-python",
      "name": "python",
      "nbconvert_exporter": "python",
      "pygments_lexer": "ipython3",
      "version": "3.6.6"
    },
    "colab": {
      "provenance": []
    }
  },
  "nbformat": 4,
  "nbformat_minor": 0
}